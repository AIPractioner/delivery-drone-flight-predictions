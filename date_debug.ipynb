{
 "cells": [
  {
   "cell_type": "markdown",
   "id": "7bc36ccd-3058-43d1-a7ef-71473292ae9f",
   "metadata": {},
   "source": [
    "### AAI-530 Final Project: Delivery Drone Flight Predictions\n",
    "<br>Group 6: Ahmed Salem, Matt Thompson, Darin Verduzco\n",
    "<br>GitHub: https://github.com/caliskate/delivery-drone-flight-predictions\n",
    "<br>Dataset source: https://doi.org/10.1184/R1/12683453.v1"
   ]
  },
  {
   "cell_type": "markdown",
   "id": "de64ed98-01ab-4b90-84ca-12a85cb24ee8",
   "metadata": {},
   "source": [
    "### Dataset descriptions:\n",
    "(196 flights total, 18 unique flight dates, 11.5 average number of flights per day)"
   ]
  },
  {
   "cell_type": "markdown",
   "id": "927ec53e-5e92-4526-8c14-368e7b5df61e",
   "metadata": {},
   "source": [
    "| **Variable**            | **Description**                                                                                                                                 |\n",
    "|-------------------------|-------------------------------------------------------------------------------------------------------------------------------------------------|\n",
    "| **flight**              | An integer that represents the code of the flight performed. A flight is defined as the dataset recorded from take-off to landing on a predefined route. |\n",
    "| **time**                | Seconds elapsed after flight start time.                                                                                                        |\n",
    "| **wind_speed**          | Airspeed provided by the anemometer in meters per second (m/s).                                                                                |\n",
    "| **wind_angle**          | Angle in degrees (deg) of the air flowing through the anemometer with respect to the north.                                                     |\n",
    "| **battery_voltage**     | System voltage in Volts (V) measured immediately after the battery.                                                                             |\n",
    "| **battery_current**     | System current in Ampere (A) measured immediately after the battery.                                                                           |\n",
    "| **position_x**          | Longitude of the aircraft in degrees (deg).                                                                                                    |\n",
    "| **position_y**          | Latitude of the aircraft in degrees (deg).                                                                                                     |\n",
    "| **position_z**          | Altitude of the aircraft in meters (m) with respect to sea level.                                                                              |\n",
    "| **orientation_x**       | Aircraft orientation in quaternions.                                                                                                           |\n",
    "| **linear_acceleration_x**| Ground acceleration in meters per squared second (m/s²).                                                                                      |\n",
    "| **linear_acceleration_y**| Ground acceleration in meters per squared second (m/s²).                                                                                      |\n",
    "| **linear_acceleration_z**| Ground acceleration in meters per squared second (m/s²).                                                                                      |\n",
    "| **speed**               | Programmed horizontal ground speed during cruise in meters per second (m/s).                                                                  |\n",
    "| **altitude**            | Predefined altitude in meters (m). The aircraft takes off vertically until it reaches the preset altitude.                                      |\n",
    "| **payload**             | Mass of the payload attached to the aircraft in grams (g). The payload used was confined in a standard USPS Small Flat Rate Box.                  |\n",
    "| **date**                | Date of the flight.                                                                                                                            |\n",
    "| **time_day**            | Local time when the flight started in the 24-hour format.                                                                                       |\n",
    "| **route**               | Route type (see directly below):                                                                                                                |\n",
    "|                         | - R1 to R7: Full flights completing a cruise movement.                                                                                          |\n",
    "|                         | - A1: Ancillary ground test with no propellers and no motor movement.                                                                          |\n",
    "|                         | - A2: Ancillary ground test with no propellers and minimum movement.                                                                           |\n",
    "|                         | - A3: Ancillary ground test with propellers and minimum movement.                                                                              |\n",
    "|                         | - H: Hover test with no horizontal movement.                                                                                                    |"
   ]
  },
  {
   "cell_type": "markdown",
   "id": "88e5aeaf-90d4-498a-8b78-19625e86fbe7",
   "metadata": {},
   "source": [
    "### Import Libraries"
   ]
  },
  {
   "cell_type": "code",
   "execution_count": 1,
   "id": "b95ad635-6c71-4f63-aeff-5e916da9a9d8",
   "metadata": {},
   "outputs": [],
   "source": [
    "import numpy as np\n",
    "import pandas as pd\n",
    "import seaborn as sns\n",
    "import matplotlib.pyplot as plt\n",
    "import matplotlib.dates as mdates\n",
    "from sklearn.preprocessing import LabelEncoder"
   ]
  },
  {
   "cell_type": "markdown",
   "id": "edb0ac33-efb9-4448-b4ba-1ac9f485472a",
   "metadata": {},
   "source": [
    "### Import dataset from local dir"
   ]
  },
  {
   "cell_type": "code",
   "execution_count": 2,
   "id": "44369243-d17f-442c-9229-feb315edec0d",
   "metadata": {},
   "outputs": [
    {
     "data": {
      "text/html": [
       "<div>\n",
       "<style scoped>\n",
       "    .dataframe tbody tr th:only-of-type {\n",
       "        vertical-align: middle;\n",
       "    }\n",
       "\n",
       "    .dataframe tbody tr th {\n",
       "        vertical-align: top;\n",
       "    }\n",
       "\n",
       "    .dataframe thead th {\n",
       "        text-align: right;\n",
       "    }\n",
       "</style>\n",
       "<table border=\"1\" class=\"dataframe\">\n",
       "  <thead>\n",
       "    <tr style=\"text-align: right;\">\n",
       "      <th></th>\n",
       "      <th>flight</th>\n",
       "      <th>time</th>\n",
       "      <th>wind_speed</th>\n",
       "      <th>wind_angle</th>\n",
       "      <th>battery_voltage</th>\n",
       "      <th>battery_current</th>\n",
       "      <th>position_x</th>\n",
       "      <th>position_y</th>\n",
       "      <th>position_z</th>\n",
       "      <th>orientation_x</th>\n",
       "      <th>...</th>\n",
       "      <th>angular_z</th>\n",
       "      <th>linear_acceleration_x</th>\n",
       "      <th>linear_acceleration_y</th>\n",
       "      <th>linear_acceleration_z</th>\n",
       "      <th>speed</th>\n",
       "      <th>payload</th>\n",
       "      <th>altitude</th>\n",
       "      <th>date</th>\n",
       "      <th>time_day</th>\n",
       "      <th>route</th>\n",
       "    </tr>\n",
       "  </thead>\n",
       "  <tbody>\n",
       "    <tr>\n",
       "      <th>0</th>\n",
       "      <td>1</td>\n",
       "      <td>0.0</td>\n",
       "      <td>0.1</td>\n",
       "      <td>12.0</td>\n",
       "      <td>24.222174</td>\n",
       "      <td>0.087470</td>\n",
       "      <td>-79.782396</td>\n",
       "      <td>40.458047</td>\n",
       "      <td>269.332402</td>\n",
       "      <td>0.001772</td>\n",
       "      <td>...</td>\n",
       "      <td>0.006815</td>\n",
       "      <td>0.004258</td>\n",
       "      <td>-0.120405</td>\n",
       "      <td>-9.811137</td>\n",
       "      <td>4.0</td>\n",
       "      <td>0.0</td>\n",
       "      <td>25</td>\n",
       "      <td>2019-04-07</td>\n",
       "      <td>10:13</td>\n",
       "      <td>R5</td>\n",
       "    </tr>\n",
       "    <tr>\n",
       "      <th>1</th>\n",
       "      <td>1</td>\n",
       "      <td>0.2</td>\n",
       "      <td>0.1</td>\n",
       "      <td>3.0</td>\n",
       "      <td>24.227180</td>\n",
       "      <td>0.095421</td>\n",
       "      <td>-79.782396</td>\n",
       "      <td>40.458047</td>\n",
       "      <td>269.332056</td>\n",
       "      <td>0.001768</td>\n",
       "      <td>...</td>\n",
       "      <td>0.002034</td>\n",
       "      <td>0.006175</td>\n",
       "      <td>-0.116397</td>\n",
       "      <td>-9.810392</td>\n",
       "      <td>4.0</td>\n",
       "      <td>0.0</td>\n",
       "      <td>25</td>\n",
       "      <td>2019-04-07</td>\n",
       "      <td>10:13</td>\n",
       "      <td>R5</td>\n",
       "    </tr>\n",
       "    <tr>\n",
       "      <th>2</th>\n",
       "      <td>1</td>\n",
       "      <td>0.3</td>\n",
       "      <td>0.1</td>\n",
       "      <td>352.0</td>\n",
       "      <td>24.225929</td>\n",
       "      <td>0.095421</td>\n",
       "      <td>-79.782396</td>\n",
       "      <td>40.458047</td>\n",
       "      <td>269.333081</td>\n",
       "      <td>0.001768</td>\n",
       "      <td>...</td>\n",
       "      <td>-0.000874</td>\n",
       "      <td>0.002696</td>\n",
       "      <td>-0.128592</td>\n",
       "      <td>-9.809440</td>\n",
       "      <td>4.0</td>\n",
       "      <td>0.0</td>\n",
       "      <td>25</td>\n",
       "      <td>2019-04-07</td>\n",
       "      <td>10:13</td>\n",
       "      <td>R5</td>\n",
       "    </tr>\n",
       "    <tr>\n",
       "      <th>3</th>\n",
       "      <td>1</td>\n",
       "      <td>0.5</td>\n",
       "      <td>0.1</td>\n",
       "      <td>354.0</td>\n",
       "      <td>24.224678</td>\n",
       "      <td>0.095421</td>\n",
       "      <td>-79.782396</td>\n",
       "      <td>40.458047</td>\n",
       "      <td>269.334648</td>\n",
       "      <td>0.001775</td>\n",
       "      <td>...</td>\n",
       "      <td>0.002443</td>\n",
       "      <td>0.002024</td>\n",
       "      <td>-0.128271</td>\n",
       "      <td>-9.810159</td>\n",
       "      <td>4.0</td>\n",
       "      <td>0.0</td>\n",
       "      <td>25</td>\n",
       "      <td>2019-04-07</td>\n",
       "      <td>10:13</td>\n",
       "      <td>R5</td>\n",
       "    </tr>\n",
       "    <tr>\n",
       "      <th>4</th>\n",
       "      <td>1</td>\n",
       "      <td>0.6</td>\n",
       "      <td>0.1</td>\n",
       "      <td>359.0</td>\n",
       "      <td>24.210905</td>\n",
       "      <td>0.079518</td>\n",
       "      <td>-79.782396</td>\n",
       "      <td>40.458047</td>\n",
       "      <td>269.336178</td>\n",
       "      <td>0.001775</td>\n",
       "      <td>...</td>\n",
       "      <td>-0.006425</td>\n",
       "      <td>0.008271</td>\n",
       "      <td>-0.119890</td>\n",
       "      <td>-9.812125</td>\n",
       "      <td>4.0</td>\n",
       "      <td>0.0</td>\n",
       "      <td>25</td>\n",
       "      <td>2019-04-07</td>\n",
       "      <td>10:13</td>\n",
       "      <td>R5</td>\n",
       "    </tr>\n",
       "  </tbody>\n",
       "</table>\n",
       "<p>5 rows × 28 columns</p>\n",
       "</div>"
      ],
      "text/plain": [
       "   flight  time  wind_speed  wind_angle  battery_voltage  battery_current  \\\n",
       "0       1   0.0         0.1        12.0        24.222174         0.087470   \n",
       "1       1   0.2         0.1         3.0        24.227180         0.095421   \n",
       "2       1   0.3         0.1       352.0        24.225929         0.095421   \n",
       "3       1   0.5         0.1       354.0        24.224678         0.095421   \n",
       "4       1   0.6         0.1       359.0        24.210905         0.079518   \n",
       "\n",
       "   position_x  position_y  position_z  orientation_x  ...  angular_z  \\\n",
       "0  -79.782396   40.458047  269.332402       0.001772  ...   0.006815   \n",
       "1  -79.782396   40.458047  269.332056       0.001768  ...   0.002034   \n",
       "2  -79.782396   40.458047  269.333081       0.001768  ...  -0.000874   \n",
       "3  -79.782396   40.458047  269.334648       0.001775  ...   0.002443   \n",
       "4  -79.782396   40.458047  269.336178       0.001775  ...  -0.006425   \n",
       "\n",
       "   linear_acceleration_x  linear_acceleration_y  linear_acceleration_z  speed  \\\n",
       "0               0.004258              -0.120405              -9.811137    4.0   \n",
       "1               0.006175              -0.116397              -9.810392    4.0   \n",
       "2               0.002696              -0.128592              -9.809440    4.0   \n",
       "3               0.002024              -0.128271              -9.810159    4.0   \n",
       "4               0.008271              -0.119890              -9.812125    4.0   \n",
       "\n",
       "   payload  altitude        date  time_day  route  \n",
       "0      0.0        25  2019-04-07     10:13     R5  \n",
       "1      0.0        25  2019-04-07     10:13     R5  \n",
       "2      0.0        25  2019-04-07     10:13     R5  \n",
       "3      0.0        25  2019-04-07     10:13     R5  \n",
       "4      0.0        25  2019-04-07     10:13     R5  \n",
       "\n",
       "[5 rows x 28 columns]"
      ]
     },
     "execution_count": 2,
     "metadata": {},
     "output_type": "execute_result"
    }
   ],
   "source": [
    "drone_raw_df =  pd.read_csv(\"flights.csv\", low_memory = False)\n",
    "drone_raw_df.head()"
   ]
  },
  {
   "cell_type": "code",
   "execution_count": 3,
   "id": "3f4a480c-0d07-437c-95fd-8aec58b133b6",
   "metadata": {},
   "outputs": [
    {
     "data": {
      "text/plain": [
       "flight                     int64\n",
       "time                     float64\n",
       "wind_speed               float64\n",
       "wind_angle               float64\n",
       "battery_voltage          float64\n",
       "battery_current          float64\n",
       "position_x               float64\n",
       "position_y               float64\n",
       "position_z               float64\n",
       "orientation_x            float64\n",
       "orientation_y            float64\n",
       "orientation_z            float64\n",
       "orientation_w            float64\n",
       "velocity_x               float64\n",
       "velocity_y               float64\n",
       "velocity_z               float64\n",
       "angular_x                float64\n",
       "angular_y                float64\n",
       "angular_z                float64\n",
       "linear_acceleration_x    float64\n",
       "linear_acceleration_y    float64\n",
       "linear_acceleration_z    float64\n",
       "speed                    float64\n",
       "payload                  float64\n",
       "altitude                  object\n",
       "date                      object\n",
       "time_day                  object\n",
       "route                     object\n",
       "dtype: object"
      ]
     },
     "execution_count": 3,
     "metadata": {},
     "output_type": "execute_result"
    }
   ],
   "source": [
    "drone_raw_df.dtypes"
   ]
  },
  {
   "cell_type": "markdown",
   "id": "693c7267-4407-44bf-84ae-8652dd49c3b9",
   "metadata": {},
   "source": [
    "# Data cleanup"
   ]
  },
  {
   "cell_type": "code",
   "execution_count": 4,
   "id": "1cdffc2a-5f48-4421-aed5-b2fb5c43fcde",
   "metadata": {},
   "outputs": [],
   "source": [
    "# Make a copy of the dataframe to be edited\n",
    "drone_df_edited = drone_raw_df.copy()"
   ]
  },
  {
   "cell_type": "code",
   "execution_count": 5,
   "id": "809255fa-68da-46b4-bef2-17aa8d0685a1",
   "metadata": {},
   "outputs": [
    {
     "name": "stdout",
     "output_type": "stream",
     "text": [
      "['25' '50' '75' '100' '0' '3' '25-50-100-25']\n"
     ]
    }
   ],
   "source": [
    "# Show unique altitude values\n",
    "unique_altitude = drone_df_edited['altitude'].unique()\n",
    "print(unique_altitude)"
   ]
  },
  {
   "cell_type": "code",
   "execution_count": 6,
   "id": "3c90be8d-6f9b-44a0-ac17-0d7b916e647c",
   "metadata": {},
   "outputs": [
    {
     "name": "stdout",
     "output_type": "stream",
     "text": [
      "2185\n"
     ]
    }
   ],
   "source": [
    "# Count altitudes with dash\n",
    "altitude_with_dash_count = drone_df_edited['altitude'].str.contains('-').sum()\n",
    "print(altitude_with_dash_count)"
   ]
  },
  {
   "cell_type": "code",
   "execution_count": 7,
   "id": "2b0115f1-e151-4352-bb5d-62ae42d6fe14",
   "metadata": {},
   "outputs": [],
   "source": [
    "# Drop (non-numeric) rows with dash in altitude, no documentation on this value explanation\n",
    "drone_df_edited = drone_df_edited[~drone_df_edited['altitude'].str.contains('-')]\n",
    "# Convert altitude to numeric\n",
    "drone_df_edited.loc[:, 'altitude'] = pd.to_numeric(drone_df_edited['altitude'], errors='coerce')"
   ]
  },
  {
   "cell_type": "code",
   "execution_count": 8,
   "id": "c650abcc-3391-43ed-8430-edbcfafa9f52",
   "metadata": {},
   "outputs": [
    {
     "name": "stdout",
     "output_type": "stream",
     "text": [
      "[25 50 75 100 0 3]\n"
     ]
    }
   ],
   "source": [
    "unique_altitude = drone_df_edited['altitude'].unique()\n",
    "print(unique_altitude)"
   ]
  },
  {
   "cell_type": "code",
   "execution_count": 9,
   "id": "a8d8b1b1-0d72-4230-8902-704b7d1e5fbe",
   "metadata": {},
   "outputs": [],
   "source": [
    "# Convert route to categorical data\n",
    "label_encoder = LabelEncoder()\n",
    "drone_df_edited['route'] = label_encoder.fit_transform(drone_df_edited['route'])"
   ]
  },
  {
   "cell_type": "code",
   "execution_count": 10,
   "id": "b2c0b0c4-0072-415b-a53b-d6a791a30792",
   "metadata": {},
   "outputs": [],
   "source": [
    "# Combine time, time_day, and date columns into a datetime column and round the seconds\n",
    "drone_df_edited['datetime'] = (\n",
    "    pd.to_datetime(drone_df_edited['date'] + ' ' + drone_df_edited['time_day']) +\n",
    "    pd.to_timedelta(drone_df_edited['time'], unit='s')\n",
    ").dt.round('s')  # Round to the nearest second"
   ]
  },
  {
   "cell_type": "markdown",
   "id": "40ddbaf0-2d3b-4f49-9cd3-5948d318544f",
   "metadata": {},
   "source": [
    "# Data evaluation"
   ]
  },
  {
   "cell_type": "code",
   "execution_count": 11,
   "id": "27a92c10-0689-4f7d-a712-3559fc00da01",
   "metadata": {},
   "outputs": [
    {
     "data": {
      "text/html": [
       "<div>\n",
       "<style scoped>\n",
       "    .dataframe tbody tr th:only-of-type {\n",
       "        vertical-align: middle;\n",
       "    }\n",
       "\n",
       "    .dataframe tbody tr th {\n",
       "        vertical-align: top;\n",
       "    }\n",
       "\n",
       "    .dataframe thead th {\n",
       "        text-align: right;\n",
       "    }\n",
       "</style>\n",
       "<table border=\"1\" class=\"dataframe\">\n",
       "  <thead>\n",
       "    <tr style=\"text-align: right;\">\n",
       "      <th></th>\n",
       "      <th>flight</th>\n",
       "      <th>time</th>\n",
       "      <th>wind_speed</th>\n",
       "      <th>wind_angle</th>\n",
       "      <th>battery_voltage</th>\n",
       "      <th>battery_current</th>\n",
       "      <th>position_x</th>\n",
       "      <th>position_y</th>\n",
       "      <th>position_z</th>\n",
       "      <th>orientation_x</th>\n",
       "      <th>...</th>\n",
       "      <th>linear_acceleration_x</th>\n",
       "      <th>linear_acceleration_y</th>\n",
       "      <th>linear_acceleration_z</th>\n",
       "      <th>speed</th>\n",
       "      <th>payload</th>\n",
       "      <th>altitude</th>\n",
       "      <th>date</th>\n",
       "      <th>time_day</th>\n",
       "      <th>route</th>\n",
       "      <th>datetime</th>\n",
       "    </tr>\n",
       "  </thead>\n",
       "  <tbody>\n",
       "    <tr>\n",
       "      <th>0</th>\n",
       "      <td>1</td>\n",
       "      <td>0.0</td>\n",
       "      <td>0.1</td>\n",
       "      <td>12.0</td>\n",
       "      <td>24.222174</td>\n",
       "      <td>0.087470</td>\n",
       "      <td>-79.782396</td>\n",
       "      <td>40.458047</td>\n",
       "      <td>269.332402</td>\n",
       "      <td>0.001772</td>\n",
       "      <td>...</td>\n",
       "      <td>0.004258</td>\n",
       "      <td>-0.120405</td>\n",
       "      <td>-9.811137</td>\n",
       "      <td>4.0</td>\n",
       "      <td>0.0</td>\n",
       "      <td>25</td>\n",
       "      <td>2019-04-07</td>\n",
       "      <td>10:13</td>\n",
       "      <td>8</td>\n",
       "      <td>2019-04-07 10:13:00</td>\n",
       "    </tr>\n",
       "    <tr>\n",
       "      <th>1</th>\n",
       "      <td>1</td>\n",
       "      <td>0.2</td>\n",
       "      <td>0.1</td>\n",
       "      <td>3.0</td>\n",
       "      <td>24.227180</td>\n",
       "      <td>0.095421</td>\n",
       "      <td>-79.782396</td>\n",
       "      <td>40.458047</td>\n",
       "      <td>269.332056</td>\n",
       "      <td>0.001768</td>\n",
       "      <td>...</td>\n",
       "      <td>0.006175</td>\n",
       "      <td>-0.116397</td>\n",
       "      <td>-9.810392</td>\n",
       "      <td>4.0</td>\n",
       "      <td>0.0</td>\n",
       "      <td>25</td>\n",
       "      <td>2019-04-07</td>\n",
       "      <td>10:13</td>\n",
       "      <td>8</td>\n",
       "      <td>2019-04-07 10:13:00</td>\n",
       "    </tr>\n",
       "    <tr>\n",
       "      <th>2</th>\n",
       "      <td>1</td>\n",
       "      <td>0.3</td>\n",
       "      <td>0.1</td>\n",
       "      <td>352.0</td>\n",
       "      <td>24.225929</td>\n",
       "      <td>0.095421</td>\n",
       "      <td>-79.782396</td>\n",
       "      <td>40.458047</td>\n",
       "      <td>269.333081</td>\n",
       "      <td>0.001768</td>\n",
       "      <td>...</td>\n",
       "      <td>0.002696</td>\n",
       "      <td>-0.128592</td>\n",
       "      <td>-9.809440</td>\n",
       "      <td>4.0</td>\n",
       "      <td>0.0</td>\n",
       "      <td>25</td>\n",
       "      <td>2019-04-07</td>\n",
       "      <td>10:13</td>\n",
       "      <td>8</td>\n",
       "      <td>2019-04-07 10:13:00</td>\n",
       "    </tr>\n",
       "    <tr>\n",
       "      <th>3</th>\n",
       "      <td>1</td>\n",
       "      <td>0.5</td>\n",
       "      <td>0.1</td>\n",
       "      <td>354.0</td>\n",
       "      <td>24.224678</td>\n",
       "      <td>0.095421</td>\n",
       "      <td>-79.782396</td>\n",
       "      <td>40.458047</td>\n",
       "      <td>269.334648</td>\n",
       "      <td>0.001775</td>\n",
       "      <td>...</td>\n",
       "      <td>0.002024</td>\n",
       "      <td>-0.128271</td>\n",
       "      <td>-9.810159</td>\n",
       "      <td>4.0</td>\n",
       "      <td>0.0</td>\n",
       "      <td>25</td>\n",
       "      <td>2019-04-07</td>\n",
       "      <td>10:13</td>\n",
       "      <td>8</td>\n",
       "      <td>2019-04-07 10:13:00</td>\n",
       "    </tr>\n",
       "    <tr>\n",
       "      <th>4</th>\n",
       "      <td>1</td>\n",
       "      <td>0.6</td>\n",
       "      <td>0.1</td>\n",
       "      <td>359.0</td>\n",
       "      <td>24.210905</td>\n",
       "      <td>0.079518</td>\n",
       "      <td>-79.782396</td>\n",
       "      <td>40.458047</td>\n",
       "      <td>269.336178</td>\n",
       "      <td>0.001775</td>\n",
       "      <td>...</td>\n",
       "      <td>0.008271</td>\n",
       "      <td>-0.119890</td>\n",
       "      <td>-9.812125</td>\n",
       "      <td>4.0</td>\n",
       "      <td>0.0</td>\n",
       "      <td>25</td>\n",
       "      <td>2019-04-07</td>\n",
       "      <td>10:13</td>\n",
       "      <td>8</td>\n",
       "      <td>2019-04-07 10:13:01</td>\n",
       "    </tr>\n",
       "  </tbody>\n",
       "</table>\n",
       "<p>5 rows × 29 columns</p>\n",
       "</div>"
      ],
      "text/plain": [
       "   flight  time  wind_speed  wind_angle  battery_voltage  battery_current  \\\n",
       "0       1   0.0         0.1        12.0        24.222174         0.087470   \n",
       "1       1   0.2         0.1         3.0        24.227180         0.095421   \n",
       "2       1   0.3         0.1       352.0        24.225929         0.095421   \n",
       "3       1   0.5         0.1       354.0        24.224678         0.095421   \n",
       "4       1   0.6         0.1       359.0        24.210905         0.079518   \n",
       "\n",
       "   position_x  position_y  position_z  orientation_x  ...  \\\n",
       "0  -79.782396   40.458047  269.332402       0.001772  ...   \n",
       "1  -79.782396   40.458047  269.332056       0.001768  ...   \n",
       "2  -79.782396   40.458047  269.333081       0.001768  ...   \n",
       "3  -79.782396   40.458047  269.334648       0.001775  ...   \n",
       "4  -79.782396   40.458047  269.336178       0.001775  ...   \n",
       "\n",
       "   linear_acceleration_x  linear_acceleration_y  linear_acceleration_z  speed  \\\n",
       "0               0.004258              -0.120405              -9.811137    4.0   \n",
       "1               0.006175              -0.116397              -9.810392    4.0   \n",
       "2               0.002696              -0.128592              -9.809440    4.0   \n",
       "3               0.002024              -0.128271              -9.810159    4.0   \n",
       "4               0.008271              -0.119890              -9.812125    4.0   \n",
       "\n",
       "   payload  altitude        date  time_day  route            datetime  \n",
       "0      0.0        25  2019-04-07     10:13      8 2019-04-07 10:13:00  \n",
       "1      0.0        25  2019-04-07     10:13      8 2019-04-07 10:13:00  \n",
       "2      0.0        25  2019-04-07     10:13      8 2019-04-07 10:13:00  \n",
       "3      0.0        25  2019-04-07     10:13      8 2019-04-07 10:13:00  \n",
       "4      0.0        25  2019-04-07     10:13      8 2019-04-07 10:13:01  \n",
       "\n",
       "[5 rows x 29 columns]"
      ]
     },
     "execution_count": 11,
     "metadata": {},
     "output_type": "execute_result"
    }
   ],
   "source": [
    "drone_df_edited.head()"
   ]
  },
  {
   "cell_type": "code",
   "execution_count": 12,
   "id": "451d7506-064b-423d-a9fd-b8c624151e6c",
   "metadata": {},
   "outputs": [
    {
     "data": {
      "text/html": [
       "<div>\n",
       "<style scoped>\n",
       "    .dataframe tbody tr th:only-of-type {\n",
       "        vertical-align: middle;\n",
       "    }\n",
       "\n",
       "    .dataframe tbody tr th {\n",
       "        vertical-align: top;\n",
       "    }\n",
       "\n",
       "    .dataframe thead th {\n",
       "        text-align: right;\n",
       "    }\n",
       "</style>\n",
       "<table border=\"1\" class=\"dataframe\">\n",
       "  <thead>\n",
       "    <tr style=\"text-align: right;\">\n",
       "      <th></th>\n",
       "      <th>flight</th>\n",
       "      <th>time</th>\n",
       "      <th>wind_speed</th>\n",
       "      <th>wind_angle</th>\n",
       "      <th>battery_voltage</th>\n",
       "      <th>battery_current</th>\n",
       "      <th>position_x</th>\n",
       "      <th>position_y</th>\n",
       "      <th>position_z</th>\n",
       "      <th>orientation_x</th>\n",
       "      <th>...</th>\n",
       "      <th>angular_x</th>\n",
       "      <th>angular_y</th>\n",
       "      <th>angular_z</th>\n",
       "      <th>linear_acceleration_x</th>\n",
       "      <th>linear_acceleration_y</th>\n",
       "      <th>linear_acceleration_z</th>\n",
       "      <th>speed</th>\n",
       "      <th>payload</th>\n",
       "      <th>route</th>\n",
       "      <th>datetime</th>\n",
       "    </tr>\n",
       "  </thead>\n",
       "  <tbody>\n",
       "    <tr>\n",
       "      <th>count</th>\n",
       "      <td>255711.0000</td>\n",
       "      <td>255711.0000</td>\n",
       "      <td>255711.0000</td>\n",
       "      <td>255711.0000</td>\n",
       "      <td>255711.0000</td>\n",
       "      <td>255711.0000</td>\n",
       "      <td>255711.0000</td>\n",
       "      <td>255711.0000</td>\n",
       "      <td>255711.0000</td>\n",
       "      <td>255711.0000</td>\n",
       "      <td>...</td>\n",
       "      <td>255711.0000</td>\n",
       "      <td>255711.0000</td>\n",
       "      <td>255711.0000</td>\n",
       "      <td>255711.0000</td>\n",
       "      <td>255711.0000</td>\n",
       "      <td>255711.0000</td>\n",
       "      <td>255711.0000</td>\n",
       "      <td>255711.0000</td>\n",
       "      <td>255711.0000</td>\n",
       "      <td>255711</td>\n",
       "    </tr>\n",
       "    <tr>\n",
       "      <th>mean</th>\n",
       "      <td>161.4543</td>\n",
       "      <td>97.8696</td>\n",
       "      <td>4.3336</td>\n",
       "      <td>169.2189</td>\n",
       "      <td>22.4382</td>\n",
       "      <td>17.9392</td>\n",
       "      <td>-77.7566</td>\n",
       "      <td>39.4301</td>\n",
       "      <td>295.7696</td>\n",
       "      <td>-0.0102</td>\n",
       "      <td>...</td>\n",
       "      <td>-0.0012</td>\n",
       "      <td>0.0001</td>\n",
       "      <td>0.0287</td>\n",
       "      <td>-0.3170</td>\n",
       "      <td>0.0165</td>\n",
       "      <td>-9.7958</td>\n",
       "      <td>7.3023</td>\n",
       "      <td>240.6555</td>\n",
       "      <td>4.1913</td>\n",
       "      <td>2019-07-06 06:10:41.085811456</td>\n",
       "    </tr>\n",
       "    <tr>\n",
       "      <th>min</th>\n",
       "      <td>1.0000</td>\n",
       "      <td>0.0000</td>\n",
       "      <td>0.0000</td>\n",
       "      <td>0.0000</td>\n",
       "      <td>18.8108</td>\n",
       "      <td>-0.3260</td>\n",
       "      <td>-79.9465</td>\n",
       "      <td>0.0000</td>\n",
       "      <td>0.0000</td>\n",
       "      <td>-0.5464</td>\n",
       "      <td>...</td>\n",
       "      <td>-2.2796</td>\n",
       "      <td>-3.6749</td>\n",
       "      <td>-1.8575</td>\n",
       "      <td>-5.8895</td>\n",
       "      <td>-9.1080</td>\n",
       "      <td>-22.6879</td>\n",
       "      <td>0.0000</td>\n",
       "      <td>0.0000</td>\n",
       "      <td>0.0000</td>\n",
       "      <td>2019-04-07 10:13:00</td>\n",
       "    </tr>\n",
       "    <tr>\n",
       "      <th>25%</th>\n",
       "      <td>112.0000</td>\n",
       "      <td>46.2100</td>\n",
       "      <td>1.5000</td>\n",
       "      <td>79.0000</td>\n",
       "      <td>21.5177</td>\n",
       "      <td>7.6417</td>\n",
       "      <td>-79.7828</td>\n",
       "      <td>40.4589</td>\n",
       "      <td>271.2835</td>\n",
       "      <td>-0.0241</td>\n",
       "      <td>...</td>\n",
       "      <td>-0.0433</td>\n",
       "      <td>-0.0384</td>\n",
       "      <td>-0.0407</td>\n",
       "      <td>-0.6916</td>\n",
       "      <td>-0.2032</td>\n",
       "      <td>-9.8959</td>\n",
       "      <td>4.0000</td>\n",
       "      <td>0.0000</td>\n",
       "      <td>4.0000</td>\n",
       "      <td>2019-06-24 11:16:00</td>\n",
       "    </tr>\n",
       "    <tr>\n",
       "      <th>50%</th>\n",
       "      <td>165.0000</td>\n",
       "      <td>93.1000</td>\n",
       "      <td>3.3000</td>\n",
       "      <td>177.0000</td>\n",
       "      <td>22.3115</td>\n",
       "      <td>21.9310</td>\n",
       "      <td>-79.7827</td>\n",
       "      <td>40.4590</td>\n",
       "      <td>292.1257</td>\n",
       "      <td>-0.0019</td>\n",
       "      <td>...</td>\n",
       "      <td>-0.0003</td>\n",
       "      <td>0.0001</td>\n",
       "      <td>0.0011</td>\n",
       "      <td>-0.0524</td>\n",
       "      <td>0.0100</td>\n",
       "      <td>-9.8011</td>\n",
       "      <td>8.0000</td>\n",
       "      <td>250.0000</td>\n",
       "      <td>4.0000</td>\n",
       "      <td>2019-07-03 16:58:48</td>\n",
       "    </tr>\n",
       "    <tr>\n",
       "      <th>75%</th>\n",
       "      <td>222.0000</td>\n",
       "      <td>141.5000</td>\n",
       "      <td>6.5000</td>\n",
       "      <td>244.0000</td>\n",
       "      <td>23.1642</td>\n",
       "      <td>25.2628</td>\n",
       "      <td>-79.7823</td>\n",
       "      <td>40.4591</td>\n",
       "      <td>325.2835</td>\n",
       "      <td>0.0103</td>\n",
       "      <td>...</td>\n",
       "      <td>0.0412</td>\n",
       "      <td>0.0407</td>\n",
       "      <td>0.0514</td>\n",
       "      <td>0.1796</td>\n",
       "      <td>0.2267</td>\n",
       "      <td>-9.6618</td>\n",
       "      <td>10.0000</td>\n",
       "      <td>500.0000</td>\n",
       "      <td>4.0000</td>\n",
       "      <td>2019-07-18 14:27:09</td>\n",
       "    </tr>\n",
       "    <tr>\n",
       "      <th>max</th>\n",
       "      <td>277.0000</td>\n",
       "      <td>428.2900</td>\n",
       "      <td>18.1000</td>\n",
       "      <td>359.0000</td>\n",
       "      <td>25.8949</td>\n",
       "      <td>47.1938</td>\n",
       "      <td>0.0000</td>\n",
       "      <td>40.4597</td>\n",
       "      <td>376.1887</td>\n",
       "      <td>0.4150</td>\n",
       "      <td>...</td>\n",
       "      <td>3.0228</td>\n",
       "      <td>2.8337</td>\n",
       "      <td>2.1724</td>\n",
       "      <td>4.6478</td>\n",
       "      <td>7.1399</td>\n",
       "      <td>-3.8305</td>\n",
       "      <td>12.0000</td>\n",
       "      <td>750.0000</td>\n",
       "      <td>9.0000</td>\n",
       "      <td>2019-10-24 09:47:15</td>\n",
       "    </tr>\n",
       "    <tr>\n",
       "      <th>std</th>\n",
       "      <td>70.9368</td>\n",
       "      <td>62.7548</td>\n",
       "      <td>3.4912</td>\n",
       "      <td>101.3437</td>\n",
       "      <td>1.2003</td>\n",
       "      <td>10.8540</td>\n",
       "      <td>12.5587</td>\n",
       "      <td>6.3685</td>\n",
       "      <td>58.4780</td>\n",
       "      <td>0.0475</td>\n",
       "      <td>...</td>\n",
       "      <td>0.1165</td>\n",
       "      <td>0.1753</td>\n",
       "      <td>0.2510</td>\n",
       "      <td>0.7706</td>\n",
       "      <td>0.4617</td>\n",
       "      <td>0.4617</td>\n",
       "      <td>3.2132</td>\n",
       "      <td>211.0019</td>\n",
       "      <td>1.2006</td>\n",
       "      <td>NaN</td>\n",
       "    </tr>\n",
       "  </tbody>\n",
       "</table>\n",
       "<p>8 rows × 26 columns</p>\n",
       "</div>"
      ],
      "text/plain": [
       "            flight         time   wind_speed   wind_angle battery_voltage  \\\n",
       "count  255711.0000  255711.0000  255711.0000  255711.0000     255711.0000   \n",
       "mean      161.4543      97.8696       4.3336     169.2189         22.4382   \n",
       "min         1.0000       0.0000       0.0000       0.0000         18.8108   \n",
       "25%       112.0000      46.2100       1.5000      79.0000         21.5177   \n",
       "50%       165.0000      93.1000       3.3000     177.0000         22.3115   \n",
       "75%       222.0000     141.5000       6.5000     244.0000         23.1642   \n",
       "max       277.0000     428.2900      18.1000     359.0000         25.8949   \n",
       "std        70.9368      62.7548       3.4912     101.3437          1.2003   \n",
       "\n",
       "      battery_current   position_x   position_y   position_z orientation_x  \\\n",
       "count     255711.0000  255711.0000  255711.0000  255711.0000   255711.0000   \n",
       "mean          17.9392     -77.7566      39.4301     295.7696       -0.0102   \n",
       "min           -0.3260     -79.9465       0.0000       0.0000       -0.5464   \n",
       "25%            7.6417     -79.7828      40.4589     271.2835       -0.0241   \n",
       "50%           21.9310     -79.7827      40.4590     292.1257       -0.0019   \n",
       "75%           25.2628     -79.7823      40.4591     325.2835        0.0103   \n",
       "max           47.1938       0.0000      40.4597     376.1887        0.4150   \n",
       "std           10.8540      12.5587       6.3685      58.4780        0.0475   \n",
       "\n",
       "       ...    angular_x    angular_y    angular_z linear_acceleration_x  \\\n",
       "count  ...  255711.0000  255711.0000  255711.0000           255711.0000   \n",
       "mean   ...      -0.0012       0.0001       0.0287               -0.3170   \n",
       "min    ...      -2.2796      -3.6749      -1.8575               -5.8895   \n",
       "25%    ...      -0.0433      -0.0384      -0.0407               -0.6916   \n",
       "50%    ...      -0.0003       0.0001       0.0011               -0.0524   \n",
       "75%    ...       0.0412       0.0407       0.0514                0.1796   \n",
       "max    ...       3.0228       2.8337       2.1724                4.6478   \n",
       "std    ...       0.1165       0.1753       0.2510                0.7706   \n",
       "\n",
       "      linear_acceleration_y linear_acceleration_z        speed      payload  \\\n",
       "count           255711.0000           255711.0000  255711.0000  255711.0000   \n",
       "mean                 0.0165               -9.7958       7.3023     240.6555   \n",
       "min                 -9.1080              -22.6879       0.0000       0.0000   \n",
       "25%                 -0.2032               -9.8959       4.0000       0.0000   \n",
       "50%                  0.0100               -9.8011       8.0000     250.0000   \n",
       "75%                  0.2267               -9.6618      10.0000     500.0000   \n",
       "max                  7.1399               -3.8305      12.0000     750.0000   \n",
       "std                  0.4617                0.4617       3.2132     211.0019   \n",
       "\n",
       "             route                       datetime  \n",
       "count  255711.0000                         255711  \n",
       "mean        4.1913  2019-07-06 06:10:41.085811456  \n",
       "min         0.0000            2019-04-07 10:13:00  \n",
       "25%         4.0000            2019-06-24 11:16:00  \n",
       "50%         4.0000            2019-07-03 16:58:48  \n",
       "75%         4.0000            2019-07-18 14:27:09  \n",
       "max         9.0000            2019-10-24 09:47:15  \n",
       "std         1.2006                            NaN  \n",
       "\n",
       "[8 rows x 26 columns]"
      ]
     },
     "execution_count": 12,
     "metadata": {},
     "output_type": "execute_result"
    }
   ],
   "source": [
    "# Edited dataset summary\n",
    "desc = drone_df_edited.describe()\n",
    "\n",
    "# Force the printout not to use scientific notation\n",
    "desc[desc.columns[:-1]] = desc[desc.columns[:-1]].apply(lambda x: x.apply(\"{0:.4f}\".format))\n",
    "desc"
   ]
  },
  {
   "cell_type": "code",
   "execution_count": 13,
   "id": "c022956a-4fcc-48c2-8633-2c8f334df8ff",
   "metadata": {},
   "outputs": [
    {
     "data": {
      "text/plain": [
       "flight                            int64\n",
       "time                            float64\n",
       "wind_speed                      float64\n",
       "wind_angle                      float64\n",
       "battery_voltage                 float64\n",
       "battery_current                 float64\n",
       "position_x                      float64\n",
       "position_y                      float64\n",
       "position_z                      float64\n",
       "orientation_x                   float64\n",
       "orientation_y                   float64\n",
       "orientation_z                   float64\n",
       "orientation_w                   float64\n",
       "velocity_x                      float64\n",
       "velocity_y                      float64\n",
       "velocity_z                      float64\n",
       "angular_x                       float64\n",
       "angular_y                       float64\n",
       "angular_z                       float64\n",
       "linear_acceleration_x           float64\n",
       "linear_acceleration_y           float64\n",
       "linear_acceleration_z           float64\n",
       "speed                           float64\n",
       "payload                         float64\n",
       "altitude                         object\n",
       "date                             object\n",
       "time_day                         object\n",
       "route                             int32\n",
       "datetime                 datetime64[ns]\n",
       "dtype: object"
      ]
     },
     "execution_count": 13,
     "metadata": {},
     "output_type": "execute_result"
    }
   ],
   "source": [
    "# Verify edited datatypes\n",
    "drone_df_edited.dtypes"
   ]
  },
  {
   "cell_type": "code",
   "execution_count": 14,
   "id": "33f23bf9-a38b-4c36-ad5c-6e940371d600",
   "metadata": {},
   "outputs": [
    {
     "data": {
      "text/plain": [
       "'2019-04-07'"
      ]
     },
     "execution_count": 14,
     "metadata": {},
     "output_type": "execute_result"
    }
   ],
   "source": [
    "drone_df_edited.date[0]"
   ]
  },
  {
   "cell_type": "code",
   "execution_count": 15,
   "id": "73ef442e-bb34-4285-a011-1449c857d6fa",
   "metadata": {},
   "outputs": [
    {
     "data": {
      "text/plain": [
       "'10:13'"
      ]
     },
     "execution_count": 15,
     "metadata": {},
     "output_type": "execute_result"
    }
   ],
   "source": [
    "drone_df_edited.time_day[0]"
   ]
  },
  {
   "cell_type": "code",
   "execution_count": 16,
   "id": "db227ef1-2d18-4ef6-b156-6f95bba34b0e",
   "metadata": {},
   "outputs": [
    {
     "data": {
      "text/plain": [
       "Timestamp('2019-04-07 10:13:00')"
      ]
     },
     "execution_count": 16,
     "metadata": {},
     "output_type": "execute_result"
    }
   ],
   "source": [
    "drone_df_edited.datetime[0]"
   ]
  },
  {
   "cell_type": "code",
   "execution_count": 17,
   "id": "f758d295-71cf-4f75-8d82-dbcdf7a152dc",
   "metadata": {},
   "outputs": [
    {
     "name": "stdout",
     "output_type": "stream",
     "text": [
      "18\n"
     ]
    }
   ],
   "source": [
    "print(drone_df_edited['date'].nunique())  # Number of unique dates"
   ]
  },
  {
   "cell_type": "code",
   "execution_count": 18,
   "id": "a3d3f624-dc63-4e41-bbfd-8827bc0e2012",
   "metadata": {},
   "outputs": [
    {
     "name": "stdout",
     "output_type": "stream",
     "text": [
      "date\n",
      "2019-08-05    27819\n",
      "2019-07-15    25772\n",
      "2019-07-24    20981\n",
      "2019-07-03    19682\n",
      "2019-06-19    19067\n",
      "2019-06-11    16904\n",
      "2019-07-10    16099\n",
      "2019-06-25    15349\n",
      "2019-06-24    15153\n",
      "2019-07-09    14431\n",
      "2019-05-06    10601\n",
      "2019-07-18    10295\n",
      "2019-06-29    10159\n",
      "2019-07-01     9807\n",
      "2019-09-19     9378\n",
      "2019-04-07     8299\n",
      "2019-06-05     3088\n",
      "2019-10-24     2827\n",
      "Name: count, dtype: int64\n"
     ]
    }
   ],
   "source": [
    "print(drone_df_edited['date'].value_counts())"
   ]
  },
  {
   "cell_type": "code",
   "execution_count": 19,
   "id": "fb420bca-e729-4de3-99e5-35025ede8be4",
   "metadata": {},
   "outputs": [
    {
     "name": "stdout",
     "output_type": "stream",
     "text": [
      "0\n"
     ]
    }
   ],
   "source": [
    "print(drone_df_edited['datetime'].isna().sum()) "
   ]
  },
  {
   "cell_type": "code",
   "execution_count": 20,
   "id": "3ca2c645-193d-4e80-a61d-5a98d03f97dd",
   "metadata": {},
   "outputs": [],
   "source": [
    "drone_df_edited = drone_df_edited.sort_values('date')"
   ]
  },
  {
   "cell_type": "code",
   "execution_count": 21,
   "id": "1d1a3396-b2e4-4301-9444-c1cd9e9f0e92",
   "metadata": {},
   "outputs": [
    {
     "data": {
      "text/html": [
       "<div>\n",
       "<style scoped>\n",
       "    .dataframe tbody tr th:only-of-type {\n",
       "        vertical-align: middle;\n",
       "    }\n",
       "\n",
       "    .dataframe tbody tr th {\n",
       "        vertical-align: top;\n",
       "    }\n",
       "\n",
       "    .dataframe thead th {\n",
       "        text-align: right;\n",
       "    }\n",
       "</style>\n",
       "<table border=\"1\" class=\"dataframe\">\n",
       "  <thead>\n",
       "    <tr style=\"text-align: right;\">\n",
       "      <th></th>\n",
       "      <th>flight</th>\n",
       "      <th>time</th>\n",
       "      <th>wind_speed</th>\n",
       "      <th>wind_angle</th>\n",
       "      <th>battery_voltage</th>\n",
       "      <th>battery_current</th>\n",
       "      <th>position_x</th>\n",
       "      <th>position_y</th>\n",
       "      <th>position_z</th>\n",
       "      <th>orientation_x</th>\n",
       "      <th>...</th>\n",
       "      <th>linear_acceleration_x</th>\n",
       "      <th>linear_acceleration_y</th>\n",
       "      <th>linear_acceleration_z</th>\n",
       "      <th>speed</th>\n",
       "      <th>payload</th>\n",
       "      <th>altitude</th>\n",
       "      <th>date</th>\n",
       "      <th>time_day</th>\n",
       "      <th>route</th>\n",
       "      <th>datetime</th>\n",
       "    </tr>\n",
       "  </thead>\n",
       "  <tbody>\n",
       "    <tr>\n",
       "      <th>0</th>\n",
       "      <td>1</td>\n",
       "      <td>0.00</td>\n",
       "      <td>0.1</td>\n",
       "      <td>12.0</td>\n",
       "      <td>24.222174</td>\n",
       "      <td>0.087470</td>\n",
       "      <td>-79.782396</td>\n",
       "      <td>40.458047</td>\n",
       "      <td>269.332402</td>\n",
       "      <td>0.001772</td>\n",
       "      <td>...</td>\n",
       "      <td>0.004258</td>\n",
       "      <td>-0.120405</td>\n",
       "      <td>-9.811137</td>\n",
       "      <td>4.0</td>\n",
       "      <td>0.0</td>\n",
       "      <td>25</td>\n",
       "      <td>2019-04-07</td>\n",
       "      <td>10:13</td>\n",
       "      <td>8</td>\n",
       "      <td>2019-04-07 10:13:00</td>\n",
       "    </tr>\n",
       "    <tr>\n",
       "      <th>5541</th>\n",
       "      <td>5</td>\n",
       "      <td>7.70</td>\n",
       "      <td>2.3</td>\n",
       "      <td>124.0</td>\n",
       "      <td>19.940159</td>\n",
       "      <td>25.938686</td>\n",
       "      <td>-79.782606</td>\n",
       "      <td>40.458366</td>\n",
       "      <td>275.837475</td>\n",
       "      <td>0.012206</td>\n",
       "      <td>...</td>\n",
       "      <td>0.347420</td>\n",
       "      <td>0.065233</td>\n",
       "      <td>-9.466506</td>\n",
       "      <td>4.0</td>\n",
       "      <td>0.0</td>\n",
       "      <td>25</td>\n",
       "      <td>2019-04-07</td>\n",
       "      <td>11:05</td>\n",
       "      <td>5</td>\n",
       "      <td>2019-04-07 11:05:08</td>\n",
       "    </tr>\n",
       "    <tr>\n",
       "      <th>5540</th>\n",
       "      <td>5</td>\n",
       "      <td>7.60</td>\n",
       "      <td>2.2</td>\n",
       "      <td>121.0</td>\n",
       "      <td>20.021544</td>\n",
       "      <td>25.493387</td>\n",
       "      <td>-79.782606</td>\n",
       "      <td>40.458366</td>\n",
       "      <td>275.591660</td>\n",
       "      <td>0.015053</td>\n",
       "      <td>...</td>\n",
       "      <td>0.227869</td>\n",
       "      <td>0.146630</td>\n",
       "      <td>-9.217792</td>\n",
       "      <td>4.0</td>\n",
       "      <td>0.0</td>\n",
       "      <td>25</td>\n",
       "      <td>2019-04-07</td>\n",
       "      <td>11:05</td>\n",
       "      <td>5</td>\n",
       "      <td>2019-04-07 11:05:08</td>\n",
       "    </tr>\n",
       "    <tr>\n",
       "      <th>5539</th>\n",
       "      <td>5</td>\n",
       "      <td>7.40</td>\n",
       "      <td>2.2</td>\n",
       "      <td>109.0</td>\n",
       "      <td>20.236897</td>\n",
       "      <td>22.893158</td>\n",
       "      <td>-79.782606</td>\n",
       "      <td>40.458367</td>\n",
       "      <td>275.213168</td>\n",
       "      <td>0.019310</td>\n",
       "      <td>...</td>\n",
       "      <td>0.309298</td>\n",
       "      <td>0.037086</td>\n",
       "      <td>-9.345713</td>\n",
       "      <td>4.0</td>\n",
       "      <td>0.0</td>\n",
       "      <td>25</td>\n",
       "      <td>2019-04-07</td>\n",
       "      <td>11:05</td>\n",
       "      <td>5</td>\n",
       "      <td>2019-04-07 11:05:07</td>\n",
       "    </tr>\n",
       "    <tr>\n",
       "      <th>5538</th>\n",
       "      <td>5</td>\n",
       "      <td>7.31</td>\n",
       "      <td>2.1</td>\n",
       "      <td>84.0</td>\n",
       "      <td>20.164276</td>\n",
       "      <td>23.672430</td>\n",
       "      <td>-79.782606</td>\n",
       "      <td>40.458367</td>\n",
       "      <td>274.941246</td>\n",
       "      <td>0.020361</td>\n",
       "      <td>...</td>\n",
       "      <td>0.352521</td>\n",
       "      <td>-0.006074</td>\n",
       "      <td>-9.585793</td>\n",
       "      <td>4.0</td>\n",
       "      <td>0.0</td>\n",
       "      <td>25</td>\n",
       "      <td>2019-04-07</td>\n",
       "      <td>11:05</td>\n",
       "      <td>5</td>\n",
       "      <td>2019-04-07 11:05:07</td>\n",
       "    </tr>\n",
       "  </tbody>\n",
       "</table>\n",
       "<p>5 rows × 29 columns</p>\n",
       "</div>"
      ],
      "text/plain": [
       "      flight  time  wind_speed  wind_angle  battery_voltage  battery_current  \\\n",
       "0          1  0.00         0.1        12.0        24.222174         0.087470   \n",
       "5541       5  7.70         2.3       124.0        19.940159        25.938686   \n",
       "5540       5  7.60         2.2       121.0        20.021544        25.493387   \n",
       "5539       5  7.40         2.2       109.0        20.236897        22.893158   \n",
       "5538       5  7.31         2.1        84.0        20.164276        23.672430   \n",
       "\n",
       "      position_x  position_y  position_z  orientation_x  ...  \\\n",
       "0     -79.782396   40.458047  269.332402       0.001772  ...   \n",
       "5541  -79.782606   40.458366  275.837475       0.012206  ...   \n",
       "5540  -79.782606   40.458366  275.591660       0.015053  ...   \n",
       "5539  -79.782606   40.458367  275.213168       0.019310  ...   \n",
       "5538  -79.782606   40.458367  274.941246       0.020361  ...   \n",
       "\n",
       "      linear_acceleration_x  linear_acceleration_y  linear_acceleration_z  \\\n",
       "0                  0.004258              -0.120405              -9.811137   \n",
       "5541               0.347420               0.065233              -9.466506   \n",
       "5540               0.227869               0.146630              -9.217792   \n",
       "5539               0.309298               0.037086              -9.345713   \n",
       "5538               0.352521              -0.006074              -9.585793   \n",
       "\n",
       "      speed  payload  altitude        date  time_day  route  \\\n",
       "0       4.0      0.0        25  2019-04-07     10:13      8   \n",
       "5541    4.0      0.0        25  2019-04-07     11:05      5   \n",
       "5540    4.0      0.0        25  2019-04-07     11:05      5   \n",
       "5539    4.0      0.0        25  2019-04-07     11:05      5   \n",
       "5538    4.0      0.0        25  2019-04-07     11:05      5   \n",
       "\n",
       "                datetime  \n",
       "0    2019-04-07 10:13:00  \n",
       "5541 2019-04-07 11:05:08  \n",
       "5540 2019-04-07 11:05:08  \n",
       "5539 2019-04-07 11:05:07  \n",
       "5538 2019-04-07 11:05:07  \n",
       "\n",
       "[5 rows x 29 columns]"
      ]
     },
     "execution_count": 21,
     "metadata": {},
     "output_type": "execute_result"
    }
   ],
   "source": [
    "drone_df_edited.head()"
   ]
  },
  {
   "cell_type": "code",
   "execution_count": 22,
   "id": "a8b6bd04-e275-4380-8cb5-34744d999546",
   "metadata": {},
   "outputs": [
    {
     "data": {
      "text/plain": [
       "0      2019-04-07 10:13:00\n",
       "5541   2019-04-07 11:05:08\n",
       "5540   2019-04-07 11:05:08\n",
       "5539   2019-04-07 11:05:07\n",
       "5538   2019-04-07 11:05:07\n",
       "Name: datetime, dtype: datetime64[ns]"
      ]
     },
     "execution_count": 22,
     "metadata": {},
     "output_type": "execute_result"
    }
   ],
   "source": [
    "drone_df_edited['datetime'].head()"
   ]
  },
  {
   "cell_type": "code",
   "execution_count": 23,
   "id": "7abe025e-ec72-4651-bd5f-782b0e5c4903",
   "metadata": {},
   "outputs": [
    {
     "data": {
      "text/plain": [
       "0       2019-04-07\n",
       "5541    2019-04-07\n",
       "5540    2019-04-07\n",
       "5539    2019-04-07\n",
       "5538    2019-04-07\n",
       "Name: date, dtype: object"
      ]
     },
     "execution_count": 23,
     "metadata": {},
     "output_type": "execute_result"
    }
   ],
   "source": [
    "drone_df_edited['date'].head()"
   ]
  },
  {
   "cell_type": "code",
   "execution_count": 24,
   "id": "93ced84e-8d5f-47f1-ab9e-43ab85f783c9",
   "metadata": {},
   "outputs": [],
   "source": [
    "prediction1_columns = [\n",
    "    'battery_current',\n",
    "    'battery_voltage',\n",
    "    'payload',\n",
    "    'altitude',\n",
    "    'speed',\n",
    "    'wind_speed',\n",
    "    'wind_angle'\n",
    "]"
   ]
  },
  {
   "cell_type": "code",
   "execution_count": 25,
   "id": "48908284-08a3-49d8-ac0c-609dfa563737",
   "metadata": {},
   "outputs": [
    {
     "name": "stdout",
     "output_type": "stream",
     "text": [
      "duplicate dates 255693\n",
      "NaN datetime values 0\n",
      "NaN date values 0\n",
      "total rows 255711\n",
      "Unique datetime entries: 38576\n",
      "Unique date entries: 18\n",
      "Total rows: 255711\n",
      "values per date:\n",
      " date\n",
      "2019-04-07     8299\n",
      "2019-05-06    10601\n",
      "2019-06-05     3088\n",
      "2019-06-11    16904\n",
      "2019-06-19    19067\n",
      "2019-06-24    15153\n",
      "2019-06-25    15349\n",
      "2019-06-29    10159\n",
      "2019-07-01     9807\n",
      "2019-07-03    19682\n",
      "2019-07-09    14431\n",
      "2019-07-10    16099\n",
      "2019-07-15    25772\n",
      "2019-07-18    10295\n",
      "2019-07-24    20981\n",
      "2019-08-05    27819\n",
      "2019-09-19     9378\n",
      "2019-10-24     2827\n",
      "dtype: int64\n"
     ]
    }
   ],
   "source": [
    "# Debug\n",
    "print(\"duplicate dates\",drone_df_edited['date'].duplicated().sum())\n",
    "print(\"NaN datetime values\",drone_df_edited['datetime'].isna().sum()) \n",
    "print(\"NaN date values\",drone_df_edited['datetime'].isna().sum()) \n",
    "print(\"total rows\",len(drone_df_edited))  # Total rows\n",
    "print(\"Unique datetime entries:\", drone_df_edited['datetime'].nunique())\n",
    "print(\"Unique date entries:\", drone_df_edited['date'].nunique())\n",
    "print(\"Total rows:\", len(drone_df_edited))  # Total number of rows\n",
    "# print(\"column types:\",drone_df_edited.info())  # Check column data types\n",
    "print(\"values per date:\\n\",drone_df_edited.groupby('date').size())"
   ]
  },
  {
   "cell_type": "code",
   "execution_count": 26,
   "id": "c707f1d7-d6a7-4b02-96c7-b33a84cffb11",
   "metadata": {},
   "outputs": [
    {
     "data": {
      "text/plain": [
       "'2019-04-07'"
      ]
     },
     "execution_count": 26,
     "metadata": {},
     "output_type": "execute_result"
    }
   ],
   "source": [
    "drone_df_edited.date[0]"
   ]
  },
  {
   "cell_type": "code",
   "execution_count": 27,
   "id": "ff98cdb0-3cff-4bc3-9516-c4bf83128409",
   "metadata": {},
   "outputs": [
    {
     "data": {
      "text/plain": [
       "Timestamp('2019-04-07 10:13:00')"
      ]
     },
     "execution_count": 27,
     "metadata": {},
     "output_type": "execute_result"
    }
   ],
   "source": [
    "drone_df_edited.datetime[0]"
   ]
  },
  {
   "cell_type": "code",
   "execution_count": 28,
   "id": "b853248a-6ff4-4fb8-9e67-2b35b9c9ab49",
   "metadata": {},
   "outputs": [
    {
     "data": {
      "text/plain": [
       "array([<Axes: xlabel='date'>, <Axes: xlabel='date'>,\n",
       "       <Axes: xlabel='date'>, <Axes: xlabel='date'>,\n",
       "       <Axes: xlabel='date'>, <Axes: xlabel='date'>,\n",
       "       <Axes: xlabel='date'>], dtype=object)"
      ]
     },
     "execution_count": 28,
     "metadata": {},
     "output_type": "execute_result"
    },
    {
     "data": {
      "image/png": "[encoded data removed]",
      "text/plain": [
       "<Figure size 800x800 with 7 Axes>"
      ]
     },
     "metadata": {},
     "output_type": "display_data"
    }
   ],
   "source": [
    "# Plot the data with 'date' on the x-axis\n",
    "drone_df_edited.plot('date', prediction1_columns, subplots=True, figsize=(8, 8))"
   ]
  },
  {
   "cell_type": "code",
   "execution_count": 29,
   "id": "1133d0be-124f-46f9-a6ca-5591dc994d9f",
   "metadata": {},
   "outputs": [],
   "source": [
    "# Original data conversion\n",
    "# drone_df_edited['date'] = drone_df_edited['datetime'].dt.date"
   ]
  },
  {
   "cell_type": "code",
   "execution_count": 30,
   "id": "40569ae9-3c0d-4cc3-b704-e57693db0ed1",
   "metadata": {},
   "outputs": [],
   "source": [
    "# Suggestion per Roozbeh\n",
    "# drone_df_edited['date'] = drone_df_edited['datetime'].dt.floor('D')"
   ]
  },
  {
   "cell_type": "code",
   "execution_count": 31,
   "id": "ceecc18f-d031-4888-b53a-c922017495e4",
   "metadata": {},
   "outputs": [],
   "source": [
    "# Suggestion per Roozbeh\n",
    "# drone_df_edited['date'] = pd.to_datetime(drone_df_edited['date'])"
   ]
  },
  {
   "cell_type": "code",
   "execution_count": 33,
   "id": "4fd12722-01b6-48e3-ab13-72e422d68b26",
   "metadata": {},
   "outputs": [],
   "source": [
    "# Aggregate columns for each date\n",
    "drone_df_edited = drone_df_edited.groupby('date', as_index=False)[prediction1_columns].mean()"
   ]
  },
  {
   "cell_type": "code",
   "execution_count": 35,
   "id": "9cd89f38-aff5-474d-b969-20fb29c6342a",
   "metadata": {},
   "outputs": [
    {
     "data": {
      "text/html": [
       "<div>\n",
       "<style scoped>\n",
       "    .dataframe tbody tr th:only-of-type {\n",
       "        vertical-align: middle;\n",
       "    }\n",
       "\n",
       "    .dataframe tbody tr th {\n",
       "        vertical-align: top;\n",
       "    }\n",
       "\n",
       "    .dataframe thead th {\n",
       "        text-align: right;\n",
       "    }\n",
       "</style>\n",
       "<table border=\"1\" class=\"dataframe\">\n",
       "  <thead>\n",
       "    <tr style=\"text-align: right;\">\n",
       "      <th></th>\n",
       "      <th>date</th>\n",
       "      <th>battery_current</th>\n",
       "      <th>battery_voltage</th>\n",
       "      <th>payload</th>\n",
       "      <th>altitude</th>\n",
       "      <th>speed</th>\n",
       "      <th>wind_speed</th>\n",
       "      <th>wind_angle</th>\n",
       "    </tr>\n",
       "  </thead>\n",
       "  <tbody>\n",
       "    <tr>\n",
       "      <th>0</th>\n",
       "      <td>2019-04-07</td>\n",
       "      <td>16.138280</td>\n",
       "      <td>21.706283</td>\n",
       "      <td>0.000000</td>\n",
       "      <td>30.449452</td>\n",
       "      <td>4.839378</td>\n",
       "      <td>3.934221</td>\n",
       "      <td>171.137366</td>\n",
       "    </tr>\n",
       "    <tr>\n",
       "      <th>1</th>\n",
       "      <td>2019-05-06</td>\n",
       "      <td>20.382100</td>\n",
       "      <td>21.784359</td>\n",
       "      <td>145.009905</td>\n",
       "      <td>29.202434</td>\n",
       "      <td>7.059145</td>\n",
       "      <td>4.959768</td>\n",
       "      <td>214.367512</td>\n",
       "    </tr>\n",
       "    <tr>\n",
       "      <th>2</th>\n",
       "      <td>2019-06-05</td>\n",
       "      <td>21.928260</td>\n",
       "      <td>21.371593</td>\n",
       "      <td>250.000000</td>\n",
       "      <td>76.643459</td>\n",
       "      <td>11.390544</td>\n",
       "      <td>5.178627</td>\n",
       "      <td>140.871438</td>\n",
       "    </tr>\n",
       "    <tr>\n",
       "      <th>3</th>\n",
       "      <td>2019-06-11</td>\n",
       "      <td>17.235751</td>\n",
       "      <td>22.295056</td>\n",
       "      <td>116.924988</td>\n",
       "      <td>73.145409</td>\n",
       "      <td>8.118434</td>\n",
       "      <td>5.683365</td>\n",
       "      <td>137.859382</td>\n",
       "    </tr>\n",
       "    <tr>\n",
       "      <th>4</th>\n",
       "      <td>2019-06-19</td>\n",
       "      <td>20.751410</td>\n",
       "      <td>22.292572</td>\n",
       "      <td>500.000000</td>\n",
       "      <td>72.562543</td>\n",
       "      <td>7.878324</td>\n",
       "      <td>4.035601</td>\n",
       "      <td>187.028583</td>\n",
       "    </tr>\n",
       "  </tbody>\n",
       "</table>\n",
       "</div>"
      ],
      "text/plain": [
       "        date  battery_current  battery_voltage     payload   altitude  \\\n",
       "0 2019-04-07        16.138280        21.706283    0.000000  30.449452   \n",
       "1 2019-05-06        20.382100        21.784359  145.009905  29.202434   \n",
       "2 2019-06-05        21.928260        21.371593  250.000000  76.643459   \n",
       "3 2019-06-11        17.235751        22.295056  116.924988  73.145409   \n",
       "4 2019-06-19        20.751410        22.292572  500.000000  72.562543   \n",
       "\n",
       "       speed  wind_speed  wind_angle  \n",
       "0   4.839378    3.934221  171.137366  \n",
       "1   7.059145    4.959768  214.367512  \n",
       "2  11.390544    5.178627  140.871438  \n",
       "3   8.118434    5.683365  137.859382  \n",
       "4   7.878324    4.035601  187.028583  "
      ]
     },
     "execution_count": 35,
     "metadata": {},
     "output_type": "execute_result"
    }
   ],
   "source": [
    "drone_df_edited.head()"
   ]
  },
  {
   "cell_type": "code",
   "execution_count": 34,
   "id": "c98f8fec-dfec-45fe-9322-d50d000515b1",
   "metadata": {},
   "outputs": [
    {
     "ename": "KeyError",
     "evalue": "'datetime'",
     "output_type": "error",
     "traceback": [
      "\u001b[1;31m---------------------------------------------------------------------------\u001b[0m",
      "\u001b[1;31mKeyError\u001b[0m                                  Traceback (most recent call last)",
      "File \u001b[1;32m~\\AppData\\Local\\Programs\\Python\\Python312\\Lib\\site-packages\\pandas\\core\\indexes\\base.py:3805\u001b[0m, in \u001b[0;36mIndex.get_loc\u001b[1;34m(self, key)\u001b[0m\n\u001b[0;32m   3804\u001b[0m \u001b[38;5;28;01mtry\u001b[39;00m:\n\u001b[1;32m-> 3805\u001b[0m     \u001b[38;5;28;01mreturn\u001b[39;00m \u001b[38;5;28;43mself\u001b[39;49m\u001b[38;5;241;43m.\u001b[39;49m\u001b[43m_engine\u001b[49m\u001b[38;5;241;43m.\u001b[39;49m\u001b[43mget_loc\u001b[49m\u001b[43m(\u001b[49m\u001b[43mcasted_key\u001b[49m\u001b[43m)\u001b[49m\n\u001b[0;32m   3806\u001b[0m \u001b[38;5;28;01mexcept\u001b[39;00m \u001b[38;5;167;01mKeyError\u001b[39;00m \u001b[38;5;28;01mas\u001b[39;00m err:\n",
      "File \u001b[1;32mindex.pyx:167\u001b[0m, in \u001b[0;36mpandas._libs.index.IndexEngine.get_loc\u001b[1;34m()\u001b[0m\n",
      "File \u001b[1;32mindex.pyx:196\u001b[0m, in \u001b[0;36mpandas._libs.index.IndexEngine.get_loc\u001b[1;34m()\u001b[0m\n",
      "File \u001b[1;32mpandas\\\\_libs\\\\hashtable_class_helper.pxi:7081\u001b[0m, in \u001b[0;36mpandas._libs.hashtable.PyObjectHashTable.get_item\u001b[1;34m()\u001b[0m\n",
      "File \u001b[1;32mpandas\\\\_libs\\\\hashtable_class_helper.pxi:7089\u001b[0m, in \u001b[0;36mpandas._libs.hashtable.PyObjectHashTable.get_item\u001b[1;34m()\u001b[0m\n",
      "\u001b[1;31mKeyError\u001b[0m: 'datetime'",
      "\nThe above exception was the direct cause of the following exception:\n",
      "\u001b[1;31mKeyError\u001b[0m                                  Traceback (most recent call last)",
      "Cell \u001b[1;32mIn[34], line 1\u001b[0m\n\u001b[1;32m----> 1\u001b[0m pd\u001b[38;5;241m.\u001b[39mto_datetime(\u001b[43mdrone_df_edited\u001b[49m\u001b[43m[\u001b[49m\u001b[38;5;124;43m'\u001b[39;49m\u001b[38;5;124;43mdatetime\u001b[39;49m\u001b[38;5;124;43m'\u001b[39;49m\u001b[43m]\u001b[49m)\n",
      "File \u001b[1;32m~\\AppData\\Local\\Programs\\Python\\Python312\\Lib\\site-packages\\pandas\\core\\frame.py:4102\u001b[0m, in \u001b[0;36mDataFrame.__getitem__\u001b[1;34m(self, key)\u001b[0m\n\u001b[0;32m   4100\u001b[0m \u001b[38;5;28;01mif\u001b[39;00m \u001b[38;5;28mself\u001b[39m\u001b[38;5;241m.\u001b[39mcolumns\u001b[38;5;241m.\u001b[39mnlevels \u001b[38;5;241m>\u001b[39m \u001b[38;5;241m1\u001b[39m:\n\u001b[0;32m   4101\u001b[0m     \u001b[38;5;28;01mreturn\u001b[39;00m \u001b[38;5;28mself\u001b[39m\u001b[38;5;241m.\u001b[39m_getitem_multilevel(key)\n\u001b[1;32m-> 4102\u001b[0m indexer \u001b[38;5;241m=\u001b[39m \u001b[38;5;28;43mself\u001b[39;49m\u001b[38;5;241;43m.\u001b[39;49m\u001b[43mcolumns\u001b[49m\u001b[38;5;241;43m.\u001b[39;49m\u001b[43mget_loc\u001b[49m\u001b[43m(\u001b[49m\u001b[43mkey\u001b[49m\u001b[43m)\u001b[49m\n\u001b[0;32m   4103\u001b[0m \u001b[38;5;28;01mif\u001b[39;00m is_integer(indexer):\n\u001b[0;32m   4104\u001b[0m     indexer \u001b[38;5;241m=\u001b[39m [indexer]\n",
      "File \u001b[1;32m~\\AppData\\Local\\Programs\\Python\\Python312\\Lib\\site-packages\\pandas\\core\\indexes\\base.py:3812\u001b[0m, in \u001b[0;36mIndex.get_loc\u001b[1;34m(self, key)\u001b[0m\n\u001b[0;32m   3807\u001b[0m     \u001b[38;5;28;01mif\u001b[39;00m \u001b[38;5;28misinstance\u001b[39m(casted_key, \u001b[38;5;28mslice\u001b[39m) \u001b[38;5;129;01mor\u001b[39;00m (\n\u001b[0;32m   3808\u001b[0m         \u001b[38;5;28misinstance\u001b[39m(casted_key, abc\u001b[38;5;241m.\u001b[39mIterable)\n\u001b[0;32m   3809\u001b[0m         \u001b[38;5;129;01mand\u001b[39;00m \u001b[38;5;28many\u001b[39m(\u001b[38;5;28misinstance\u001b[39m(x, \u001b[38;5;28mslice\u001b[39m) \u001b[38;5;28;01mfor\u001b[39;00m x \u001b[38;5;129;01min\u001b[39;00m casted_key)\n\u001b[0;32m   3810\u001b[0m     ):\n\u001b[0;32m   3811\u001b[0m         \u001b[38;5;28;01mraise\u001b[39;00m InvalidIndexError(key)\n\u001b[1;32m-> 3812\u001b[0m     \u001b[38;5;28;01mraise\u001b[39;00m \u001b[38;5;167;01mKeyError\u001b[39;00m(key) \u001b[38;5;28;01mfrom\u001b[39;00m \u001b[38;5;21;01merr\u001b[39;00m\n\u001b[0;32m   3813\u001b[0m \u001b[38;5;28;01mexcept\u001b[39;00m \u001b[38;5;167;01mTypeError\u001b[39;00m:\n\u001b[0;32m   3814\u001b[0m     \u001b[38;5;66;03m# If we have a listlike key, _check_indexing_error will raise\u001b[39;00m\n\u001b[0;32m   3815\u001b[0m     \u001b[38;5;66;03m#  InvalidIndexError. Otherwise we fall through and re-raise\u001b[39;00m\n\u001b[0;32m   3816\u001b[0m     \u001b[38;5;66;03m#  the TypeError.\u001b[39;00m\n\u001b[0;32m   3817\u001b[0m     \u001b[38;5;28mself\u001b[39m\u001b[38;5;241m.\u001b[39m_check_indexing_error(key)\n",
      "\u001b[1;31mKeyError\u001b[0m: 'datetime'"
     ]
    }
   ],
   "source": [
    "pd.to_datetime(drone_df_edited['datetime'])"
   ]
  },
  {
   "cell_type": "code",
   "execution_count": null,
   "id": "9f96e94b-1e98-43f4-852d-eeab7af1da13",
   "metadata": {},
   "outputs": [],
   "source": [
    "drone_df_edited.datetime[0]"
   ]
  },
  {
   "cell_type": "code",
   "execution_count": null,
   "id": "1ea4ba92-ee59-4dfb-b8c4-551fd3da5763",
   "metadata": {},
   "outputs": [],
   "source": [
    "# Debug\n",
    "print(\"duplicate dates\",drone_df_edited['date'].duplicated().sum())\n",
    "print(\"NaN datetime values\",drone_df_edited['datetime'].isna().sum()) \n",
    "print(\"NaN date values\",drone_df_edited['datetime'].isna().sum()) \n",
    "print(\"total rows\",len(drone_df_edited))  # Total rows\n",
    "print(\"Unique datetime entries:\", drone_df_edited['datetime'].nunique())\n",
    "print(\"Unique date entries:\", drone_df_edited['date'].nunique())\n",
    "print(\"Total rows:\", len(drone_df_edited))  # Total number of rows\n",
    "# print(\"column types:\",drone_df_edited.info())  # Check column data types\n",
    "print(\"values per date:\\n\",drone_df_edited.groupby('date').size())"
   ]
  },
  {
   "cell_type": "code",
   "execution_count": null,
   "id": "491324c6-ab09-408a-bea5-9d761a88ae4a",
   "metadata": {},
   "outputs": [],
   "source": [
    "drone_df_edited.datetime[0]"
   ]
  },
  {
   "cell_type": "code",
   "execution_count": null,
   "id": "25cbff44-4354-400e-920d-77afb47c6eb6",
   "metadata": {},
   "outputs": [],
   "source": [
    "drone_df_edited.date[0]"
   ]
  },
  {
   "cell_type": "code",
   "execution_count": 36,
   "id": "622ce6c2-2990-4cac-8114-fc2759e69b91",
   "metadata": {},
   "outputs": [
    {
     "data": {
      "text/plain": [
       "array([<Axes: xlabel='date'>, <Axes: xlabel='date'>,\n",
       "       <Axes: xlabel='date'>, <Axes: xlabel='date'>,\n",
       "       <Axes: xlabel='date'>, <Axes: xlabel='date'>,\n",
       "       <Axes: xlabel='date'>], dtype=object)"
      ]
     },
     "execution_count": 36,
     "metadata": {},
     "output_type": "execute_result"
    },
    {
     "data": {
      "image/png": "[encoded data removed]",
      "text/plain": [
       "<Figure size 800x800 with 7 Axes>"
      ]
     },
     "metadata": {},
     "output_type": "display_data"
    }
   ],
   "source": [
    "# Plot the data with 'date' on the x-axis\n",
    "drone_df_edited.plot('date', prediction1_columns, subplots=True, figsize=(8, 8))"
   ]
  },
  {
   "cell_type": "code",
   "execution_count": null,
   "id": "205dd7a4-0b8c-4343-930a-813ac152f704",
   "metadata": {},
   "outputs": [],
   "source": []
  }
 ],
 "metadata": {
  "kernelspec": {
   "display_name": "Python 3 (ipykernel)",
   "language": "python",
   "name": "python3"
  },
  "language_info": {
   "codemirror_mode": {
    "name": "ipython",
    "version": 3
   },
   "file_extension": ".py",
   "mimetype": "text/x-python",
   "name": "python",
   "nbconvert_exporter": "python",
   "pygments_lexer": "ipython3",
   "version": "3.12.4"
  }
 },
 "nbformat": 4,
 "nbformat_minor": 5
}
